{
 "cells": [
  {
   "cell_type": "code",
   "execution_count": 1,
   "metadata": {},
   "outputs": [],
   "source": [
    "import pandas as pd\n",
    "import numpy as np\n",
    "import matplotlib.pyplot as plt\n",
    "from sklearn import preprocessing \n",
    "from sklearn import tree\n",
    "from sklearn.ensemble import RandomForestClassifier"
   ]
  },
  {
   "cell_type": "code",
   "execution_count": 2,
   "metadata": {
    "scrolled": true
   },
   "outputs": [
    {
     "data": {
      "text/html": [
       "<div>\n",
       "<style scoped>\n",
       "    .dataframe tbody tr th:only-of-type {\n",
       "        vertical-align: middle;\n",
       "    }\n",
       "\n",
       "    .dataframe tbody tr th {\n",
       "        vertical-align: top;\n",
       "    }\n",
       "\n",
       "    .dataframe thead th {\n",
       "        text-align: right;\n",
       "    }\n",
       "</style>\n",
       "<table border=\"1\" class=\"dataframe\">\n",
       "  <thead>\n",
       "    <tr style=\"text-align: right;\">\n",
       "      <th></th>\n",
       "      <th>Age</th>\n",
       "      <th>Experience</th>\n",
       "      <th>Income</th>\n",
       "      <th>ZIP Code</th>\n",
       "      <th>Family</th>\n",
       "      <th>CCAvg</th>\n",
       "      <th>Education</th>\n",
       "      <th>Mortgage</th>\n",
       "      <th>Personal Loan</th>\n",
       "      <th>Securities Account</th>\n",
       "      <th>CD Account</th>\n",
       "      <th>Online</th>\n",
       "      <th>CreditCard</th>\n",
       "    </tr>\n",
       "    <tr>\n",
       "      <th>ID</th>\n",
       "      <th></th>\n",
       "      <th></th>\n",
       "      <th></th>\n",
       "      <th></th>\n",
       "      <th></th>\n",
       "      <th></th>\n",
       "      <th></th>\n",
       "      <th></th>\n",
       "      <th></th>\n",
       "      <th></th>\n",
       "      <th></th>\n",
       "      <th></th>\n",
       "      <th></th>\n",
       "    </tr>\n",
       "  </thead>\n",
       "  <tbody>\n",
       "    <tr>\n",
       "      <th>1</th>\n",
       "      <td>25</td>\n",
       "      <td>1</td>\n",
       "      <td>49</td>\n",
       "      <td>91107</td>\n",
       "      <td>4</td>\n",
       "      <td>1.6</td>\n",
       "      <td>1</td>\n",
       "      <td>0</td>\n",
       "      <td>0</td>\n",
       "      <td>1</td>\n",
       "      <td>0</td>\n",
       "      <td>0</td>\n",
       "      <td>0</td>\n",
       "    </tr>\n",
       "    <tr>\n",
       "      <th>2</th>\n",
       "      <td>45</td>\n",
       "      <td>19</td>\n",
       "      <td>34</td>\n",
       "      <td>90089</td>\n",
       "      <td>3</td>\n",
       "      <td>1.5</td>\n",
       "      <td>1</td>\n",
       "      <td>0</td>\n",
       "      <td>0</td>\n",
       "      <td>1</td>\n",
       "      <td>0</td>\n",
       "      <td>0</td>\n",
       "      <td>0</td>\n",
       "    </tr>\n",
       "    <tr>\n",
       "      <th>3</th>\n",
       "      <td>39</td>\n",
       "      <td>15</td>\n",
       "      <td>11</td>\n",
       "      <td>94720</td>\n",
       "      <td>1</td>\n",
       "      <td>1.0</td>\n",
       "      <td>1</td>\n",
       "      <td>0</td>\n",
       "      <td>0</td>\n",
       "      <td>0</td>\n",
       "      <td>0</td>\n",
       "      <td>0</td>\n",
       "      <td>0</td>\n",
       "    </tr>\n",
       "    <tr>\n",
       "      <th>4</th>\n",
       "      <td>35</td>\n",
       "      <td>9</td>\n",
       "      <td>100</td>\n",
       "      <td>94112</td>\n",
       "      <td>1</td>\n",
       "      <td>2.7</td>\n",
       "      <td>2</td>\n",
       "      <td>0</td>\n",
       "      <td>0</td>\n",
       "      <td>0</td>\n",
       "      <td>0</td>\n",
       "      <td>0</td>\n",
       "      <td>0</td>\n",
       "    </tr>\n",
       "    <tr>\n",
       "      <th>5</th>\n",
       "      <td>35</td>\n",
       "      <td>8</td>\n",
       "      <td>45</td>\n",
       "      <td>91330</td>\n",
       "      <td>4</td>\n",
       "      <td>1.0</td>\n",
       "      <td>2</td>\n",
       "      <td>0</td>\n",
       "      <td>0</td>\n",
       "      <td>0</td>\n",
       "      <td>0</td>\n",
       "      <td>0</td>\n",
       "      <td>1</td>\n",
       "    </tr>\n",
       "    <tr>\n",
       "      <th>...</th>\n",
       "      <td>...</td>\n",
       "      <td>...</td>\n",
       "      <td>...</td>\n",
       "      <td>...</td>\n",
       "      <td>...</td>\n",
       "      <td>...</td>\n",
       "      <td>...</td>\n",
       "      <td>...</td>\n",
       "      <td>...</td>\n",
       "      <td>...</td>\n",
       "      <td>...</td>\n",
       "      <td>...</td>\n",
       "      <td>...</td>\n",
       "    </tr>\n",
       "    <tr>\n",
       "      <th>4996</th>\n",
       "      <td>29</td>\n",
       "      <td>3</td>\n",
       "      <td>40</td>\n",
       "      <td>92697</td>\n",
       "      <td>1</td>\n",
       "      <td>1.9</td>\n",
       "      <td>3</td>\n",
       "      <td>0</td>\n",
       "      <td>0</td>\n",
       "      <td>0</td>\n",
       "      <td>0</td>\n",
       "      <td>1</td>\n",
       "      <td>0</td>\n",
       "    </tr>\n",
       "    <tr>\n",
       "      <th>4997</th>\n",
       "      <td>30</td>\n",
       "      <td>4</td>\n",
       "      <td>15</td>\n",
       "      <td>92037</td>\n",
       "      <td>4</td>\n",
       "      <td>0.4</td>\n",
       "      <td>1</td>\n",
       "      <td>85</td>\n",
       "      <td>0</td>\n",
       "      <td>0</td>\n",
       "      <td>0</td>\n",
       "      <td>1</td>\n",
       "      <td>0</td>\n",
       "    </tr>\n",
       "    <tr>\n",
       "      <th>4998</th>\n",
       "      <td>63</td>\n",
       "      <td>39</td>\n",
       "      <td>24</td>\n",
       "      <td>93023</td>\n",
       "      <td>2</td>\n",
       "      <td>0.3</td>\n",
       "      <td>3</td>\n",
       "      <td>0</td>\n",
       "      <td>0</td>\n",
       "      <td>0</td>\n",
       "      <td>0</td>\n",
       "      <td>0</td>\n",
       "      <td>0</td>\n",
       "    </tr>\n",
       "    <tr>\n",
       "      <th>4999</th>\n",
       "      <td>65</td>\n",
       "      <td>40</td>\n",
       "      <td>49</td>\n",
       "      <td>90034</td>\n",
       "      <td>3</td>\n",
       "      <td>0.5</td>\n",
       "      <td>2</td>\n",
       "      <td>0</td>\n",
       "      <td>0</td>\n",
       "      <td>0</td>\n",
       "      <td>0</td>\n",
       "      <td>1</td>\n",
       "      <td>0</td>\n",
       "    </tr>\n",
       "    <tr>\n",
       "      <th>5000</th>\n",
       "      <td>28</td>\n",
       "      <td>4</td>\n",
       "      <td>83</td>\n",
       "      <td>92612</td>\n",
       "      <td>3</td>\n",
       "      <td>0.8</td>\n",
       "      <td>1</td>\n",
       "      <td>0</td>\n",
       "      <td>0</td>\n",
       "      <td>0</td>\n",
       "      <td>0</td>\n",
       "      <td>1</td>\n",
       "      <td>1</td>\n",
       "    </tr>\n",
       "  </tbody>\n",
       "</table>\n",
       "<p>5000 rows × 13 columns</p>\n",
       "</div>"
      ],
      "text/plain": [
       "      Age  Experience  Income  ZIP Code  Family  CCAvg  Education  Mortgage  \\\n",
       "ID                                                                            \n",
       "1      25           1      49     91107       4    1.6          1         0   \n",
       "2      45          19      34     90089       3    1.5          1         0   \n",
       "3      39          15      11     94720       1    1.0          1         0   \n",
       "4      35           9     100     94112       1    2.7          2         0   \n",
       "5      35           8      45     91330       4    1.0          2         0   \n",
       "...   ...         ...     ...       ...     ...    ...        ...       ...   \n",
       "4996   29           3      40     92697       1    1.9          3         0   \n",
       "4997   30           4      15     92037       4    0.4          1        85   \n",
       "4998   63          39      24     93023       2    0.3          3         0   \n",
       "4999   65          40      49     90034       3    0.5          2         0   \n",
       "5000   28           4      83     92612       3    0.8          1         0   \n",
       "\n",
       "      Personal Loan  Securities Account  CD Account  Online  CreditCard  \n",
       "ID                                                                       \n",
       "1                 0                   1           0       0           0  \n",
       "2                 0                   1           0       0           0  \n",
       "3                 0                   0           0       0           0  \n",
       "4                 0                   0           0       0           0  \n",
       "5                 0                   0           0       0           1  \n",
       "...             ...                 ...         ...     ...         ...  \n",
       "4996              0                   0           0       1           0  \n",
       "4997              0                   0           0       1           0  \n",
       "4998              0                   0           0       0           0  \n",
       "4999              0                   0           0       1           0  \n",
       "5000              0                   0           0       1           1  \n",
       "\n",
       "[5000 rows x 13 columns]"
      ]
     },
     "execution_count": 2,
     "metadata": {},
     "output_type": "execute_result"
    }
   ],
   "source": [
    "bank_data = pd.read_excel('Bank_Personal_Loan_Modelling.xlsx', sheet_name = 'Data', index_col = 'ID')\n",
    "bank_data"
   ]
  },
  {
   "cell_type": "code",
   "execution_count": 3,
   "metadata": {},
   "outputs": [
    {
     "name": "stdout",
     "output_type": "stream",
     "text": [
      "<class 'pandas.core.frame.DataFrame'>\n",
      "Int64Index: 5000 entries, 1 to 5000\n",
      "Data columns (total 13 columns):\n",
      " #   Column              Non-Null Count  Dtype  \n",
      "---  ------              --------------  -----  \n",
      " 0   Age                 5000 non-null   int64  \n",
      " 1   Experience          5000 non-null   int64  \n",
      " 2   Income              5000 non-null   int64  \n",
      " 3   ZIP Code            5000 non-null   int64  \n",
      " 4   Family              5000 non-null   int64  \n",
      " 5   CCAvg               5000 non-null   float64\n",
      " 6   Education           5000 non-null   int64  \n",
      " 7   Mortgage            5000 non-null   int64  \n",
      " 8   Personal Loan       5000 non-null   int64  \n",
      " 9   Securities Account  5000 non-null   int64  \n",
      " 10  CD Account          5000 non-null   int64  \n",
      " 11  Online              5000 non-null   int64  \n",
      " 12  CreditCard          5000 non-null   int64  \n",
      "dtypes: float64(1), int64(12)\n",
      "memory usage: 546.9 KB\n"
     ]
    }
   ],
   "source": [
    "bank_data.info()"
   ]
  },
  {
   "cell_type": "code",
   "execution_count": 4,
   "metadata": {},
   "outputs": [
    {
     "data": {
      "text/plain": [
       "array([[<matplotlib.axes._subplots.AxesSubplot object at 0x000002441D640748>,\n",
       "        <matplotlib.axes._subplots.AxesSubplot object at 0x000002441D44E108>,\n",
       "        <matplotlib.axes._subplots.AxesSubplot object at 0x000002441D49A9C8>,\n",
       "        <matplotlib.axes._subplots.AxesSubplot object at 0x000002441D508448>],\n",
       "       [<matplotlib.axes._subplots.AxesSubplot object at 0x000002441DD46F48>,\n",
       "        <matplotlib.axes._subplots.AxesSubplot object at 0x000002441D575088>,\n",
       "        <matplotlib.axes._subplots.AxesSubplot object at 0x000002441D5AD148>,\n",
       "        <matplotlib.axes._subplots.AxesSubplot object at 0x000002441DD741C8>],\n",
       "       [<matplotlib.axes._subplots.AxesSubplot object at 0x000002441DD7F648>,\n",
       "        <matplotlib.axes._subplots.AxesSubplot object at 0x000002441DDB6808>,\n",
       "        <matplotlib.axes._subplots.AxesSubplot object at 0x000002441DE1D508>,\n",
       "        <matplotlib.axes._subplots.AxesSubplot object at 0x000002441DE545C8>],\n",
       "       [<matplotlib.axes._subplots.AxesSubplot object at 0x000002441DE8D708>,\n",
       "        <matplotlib.axes._subplots.AxesSubplot object at 0x000002441DEC5808>,\n",
       "        <matplotlib.axes._subplots.AxesSubplot object at 0x000002441DEFB9C8>,\n",
       "        <matplotlib.axes._subplots.AxesSubplot object at 0x000002441DF33BC8>]],\n",
       "      dtype=object)"
      ]
     },
     "execution_count": 4,
     "metadata": {},
     "output_type": "execute_result"
    },
    {
     "data": {
      "image/png": "[encoded data removed]",
      "text/plain": [
       "<Figure size 1440x864 with 16 Axes>"
      ]
     },
     "metadata": {
      "needs_background": "light"
     },
     "output_type": "display_data"
    }
   ],
   "source": [
    "bank_data.hist(figsize = (20,12))"
   ]
  },
  {
   "cell_type": "code",
   "execution_count": 5,
   "metadata": {},
   "outputs": [
    {
     "data": {
      "text/plain": [
       "Index(['Age', 'Experience', 'Income', 'ZIP Code', 'Family', 'CCAvg',\n",
       "       'Education', 'Mortgage', 'Personal Loan', 'Securities Account',\n",
       "       'CD Account', 'Online', 'CreditCard'],\n",
       "      dtype='object')"
      ]
     },
     "execution_count": 5,
     "metadata": {},
     "output_type": "execute_result"
    }
   ],
   "source": [
    "bank_data.columns"
   ]
  },
  {
   "cell_type": "code",
   "execution_count": 6,
   "metadata": {},
   "outputs": [],
   "source": [
    "cols = ['Age', 'Experience', 'Income', 'ZIP Code', 'Family', 'CCAvg',\n",
    "       'Education', 'Mortgage', 'Securities Account',\n",
    "       'CD Account', 'Online', 'CreditCard']"
   ]
  },
  {
   "cell_type": "code",
   "execution_count": 7,
   "metadata": {},
   "outputs": [],
   "source": [
    "rf_model = RandomForestClassifier(n_estimators=1000, max_features=2, oob_score=True)"
   ]
  },
  {
   "cell_type": "code",
   "execution_count": 8,
   "metadata": {},
   "outputs": [
    {
     "data": {
      "text/plain": [
       "RandomForestClassifier(bootstrap=True, ccp_alpha=0.0, class_weight=None,\n",
       "                       criterion='gini', max_depth=None, max_features=2,\n",
       "                       max_leaf_nodes=None, max_samples=None,\n",
       "                       min_impurity_decrease=0.0, min_impurity_split=None,\n",
       "                       min_samples_leaf=1, min_samples_split=2,\n",
       "                       min_weight_fraction_leaf=0.0, n_estimators=1000,\n",
       "                       n_jobs=None, oob_score=True, random_state=None,\n",
       "                       verbose=0, warm_start=False)"
      ]
     },
     "execution_count": 8,
     "metadata": {},
     "output_type": "execute_result"
    }
   ],
   "source": [
    "rf_model.fit(bank_data[cols], bank_data['Personal Loan'])"
   ]
  },
  {
   "cell_type": "code",
   "execution_count": 9,
   "metadata": {},
   "outputs": [
    {
     "name": "stdout",
     "output_type": "stream",
     "text": [
      "OOB Score:  0.987\n"
     ]
    }
   ],
   "source": [
    "print('OOB Score: ', rf_model.oob_score_)"
   ]
  },
  {
   "cell_type": "code",
   "execution_count": 10,
   "metadata": {},
   "outputs": [
    {
     "name": "stdout",
     "output_type": "stream",
     "text": [
      "Age 0.04135793383326336\n",
      "Experience 0.04120593694463561\n",
      "Income 0.3360006329024848\n",
      "ZIP Code 0.04494200293228742\n",
      "Family 0.0867821728226014\n",
      "CCAvg 0.17109944140440111\n",
      "Education 0.15499154980801655\n",
      "Mortgage 0.04360414238855675\n",
      "Securities Account 0.005639501255662373\n",
      "CD Account 0.05654096704870794\n",
      "Online 0.00808010657818064\n",
      "CreditCard 0.009755612081202117\n"
     ]
    }
   ],
   "source": [
    "for cols,imp in zip(cols,rf_model.feature_importances_):\n",
    "    print(cols,imp)"
   ]
  },
  {
   "cell_type": "code",
   "execution_count": 11,
   "metadata": {},
   "outputs": [],
   "source": [
    "features = ['Income', 'CCAvg', 'Education']"
   ]
  },
  {
   "cell_type": "code",
   "execution_count": 12,
   "metadata": {},
   "outputs": [
    {
     "data": {
      "text/plain": [
       "RandomForestClassifier(bootstrap=True, ccp_alpha=0.0, class_weight=None,\n",
       "                       criterion='gini', max_depth=None, max_features=2,\n",
       "                       max_leaf_nodes=None, max_samples=None,\n",
       "                       min_impurity_decrease=0.0, min_impurity_split=None,\n",
       "                       min_samples_leaf=1, min_samples_split=2,\n",
       "                       min_weight_fraction_leaf=0.0, n_estimators=1000,\n",
       "                       n_jobs=None, oob_score=True, random_state=None,\n",
       "                       verbose=0, warm_start=False)"
      ]
     },
     "execution_count": 12,
     "metadata": {},
     "output_type": "execute_result"
    }
   ],
   "source": [
    "rf_model.fit(bank_data[features], bank_data['Personal Loan'])"
   ]
  },
  {
   "cell_type": "code",
   "execution_count": 13,
   "metadata": {},
   "outputs": [],
   "source": [
    "tree_model = tree.DecisionTreeClassifier(max_depth = 6)"
   ]
  },
  {
   "cell_type": "code",
   "execution_count": 14,
   "metadata": {},
   "outputs": [
    {
     "data": {
      "text/plain": [
       "DecisionTreeClassifier(ccp_alpha=0.0, class_weight=None, criterion='gini',\n",
       "                       max_depth=6, max_features=None, max_leaf_nodes=None,\n",
       "                       min_impurity_decrease=0.0, min_impurity_split=None,\n",
       "                       min_samples_leaf=1, min_samples_split=2,\n",
       "                       min_weight_fraction_leaf=0.0, presort='deprecated',\n",
       "                       random_state=None, splitter='best')"
      ]
     },
     "execution_count": 14,
     "metadata": {},
     "output_type": "execute_result"
    }
   ],
   "source": [
    "tree_model.fit(bank_data[features], bank_data['Personal Loan'])"
   ]
  },
  {
   "cell_type": "code",
   "execution_count": 15,
   "metadata": {},
   "outputs": [
    {
     "data": {
      "text/plain": [
       "0.9738"
      ]
     },
     "execution_count": 15,
     "metadata": {},
     "output_type": "execute_result"
    }
   ],
   "source": [
    "tree_model.score(bank_data[features], bank_data['Personal Loan'])"
   ]
  },
  {
   "cell_type": "code",
   "execution_count": 16,
   "metadata": {},
   "outputs": [
    {
     "data": {
      "text/plain": [
       "'bank_data.pdf'"
      ]
     },
     "execution_count": 16,
     "metadata": {},
     "output_type": "execute_result"
    }
   ],
   "source": [
    "import graphviz \n",
    "dot_data = tree.export_graphviz(tree_model, out_file=None) \n",
    "graph = graphviz.Source(dot_data) \n",
    "graph.render(\"bank_data\") "
   ]
  },
  {
   "cell_type": "code",
   "execution_count": 17,
   "metadata": {},
   "outputs": [
    {
     "data": {
      "text/plain": [
       "[Text(180.07288732394366, 201.90857142857143, 'X[0] <= 113.5\\ngini = 0.174\\nsamples = 5000\\nvalue = [4520, 480]'),\n",
       " Text(81.34225352112676, 170.84571428571428, 'X[1] <= 2.95\\ngini = 0.041\\nsamples = 4021\\nvalue = [3937, 84]'),\n",
       " Text(33.00845070422535, 139.78285714285715, 'X[0] <= 106.5\\ngini = 0.007\\nsamples = 3723\\nvalue = [3710, 13]'),\n",
       " Text(28.292957746478873, 108.72, 'gini = 0.0\\nsamples = 3629\\nvalue = [3629, 0]'),\n",
       " Text(37.72394366197183, 108.72, 'X[2] <= 1.5\\ngini = 0.238\\nsamples = 94\\nvalue = [81, 13]'),\n",
       " Text(18.861971830985915, 77.65714285714284, 'X[1] <= 0.35\\ngini = 0.127\\nsamples = 44\\nvalue = [41, 3]'),\n",
       " Text(9.430985915492958, 46.59428571428572, 'X[1] <= 0.25\\ngini = 0.32\\nsamples = 10\\nvalue = [8, 2]'),\n",
       " Text(4.715492957746479, 15.531428571428563, 'gini = 0.219\\nsamples = 8\\nvalue = [7, 1]'),\n",
       " Text(14.146478873239436, 15.531428571428563, 'gini = 0.5\\nsamples = 2\\nvalue = [1, 1]'),\n",
       " Text(28.292957746478873, 46.59428571428572, 'X[0] <= 109.5\\ngini = 0.057\\nsamples = 34\\nvalue = [33, 1]'),\n",
       " Text(23.577464788732392, 15.531428571428563, 'gini = 0.153\\nsamples = 12\\nvalue = [11, 1]'),\n",
       " Text(33.00845070422535, 15.531428571428563, 'gini = 0.0\\nsamples = 22\\nvalue = [22, 0]'),\n",
       " Text(56.585915492957746, 77.65714285714284, 'X[1] <= 1.65\\ngini = 0.32\\nsamples = 50\\nvalue = [40, 10]'),\n",
       " Text(47.154929577464785, 46.59428571428572, 'X[1] <= 0.3\\ngini = 0.457\\nsamples = 17\\nvalue = [11, 6]'),\n",
       " Text(42.43943661971831, 15.531428571428563, 'gini = 0.0\\nsamples = 3\\nvalue = [3, 0]'),\n",
       " Text(51.87042253521127, 15.531428571428563, 'gini = 0.49\\nsamples = 14\\nvalue = [8, 6]'),\n",
       " Text(66.0169014084507, 46.59428571428572, 'X[1] <= 2.45\\ngini = 0.213\\nsamples = 33\\nvalue = [29, 4]'),\n",
       " Text(61.30140845070422, 15.531428571428563, 'gini = 0.128\\nsamples = 29\\nvalue = [27, 2]'),\n",
       " Text(70.73239436619718, 15.531428571428563, 'gini = 0.5\\nsamples = 4\\nvalue = [2, 2]'),\n",
       " Text(129.67605633802816, 139.78285714285715, 'X[0] <= 82.5\\ngini = 0.363\\nsamples = 298\\nvalue = [227, 71]'),\n",
       " Text(99.02535211267606, 108.72, 'X[1] <= 3.55\\ngini = 0.142\\nsamples = 117\\nvalue = [108, 9]'),\n",
       " Text(89.59436619718309, 77.65714285714284, 'X[1] <= 3.45\\ngini = 0.269\\nsamples = 50\\nvalue = [42, 8]'),\n",
       " Text(84.87887323943661, 46.59428571428572, 'X[1] <= 3.25\\ngini = 0.245\\nsamples = 49\\nvalue = [42, 7]'),\n",
       " Text(80.16338028169014, 15.531428571428563, 'gini = 0.188\\nsamples = 38\\nvalue = [34, 4]'),\n",
       " Text(89.59436619718309, 15.531428571428563, 'gini = 0.397\\nsamples = 11\\nvalue = [8, 3]'),\n",
       " Text(94.30985915492957, 46.59428571428572, 'gini = 0.0\\nsamples = 1\\nvalue = [0, 1]'),\n",
       " Text(108.45633802816901, 77.65714285714284, 'X[0] <= 81.5\\ngini = 0.029\\nsamples = 67\\nvalue = [66, 1]'),\n",
       " Text(103.74084507042254, 46.59428571428572, 'gini = 0.0\\nsamples = 60\\nvalue = [60, 0]'),\n",
       " Text(113.17183098591549, 46.59428571428572, 'X[1] <= 3.75\\ngini = 0.245\\nsamples = 7\\nvalue = [6, 1]'),\n",
       " Text(108.45633802816901, 15.531428571428563, 'gini = 0.444\\nsamples = 3\\nvalue = [2, 1]'),\n",
       " Text(117.88732394366197, 15.531428571428563, 'gini = 0.0\\nsamples = 4\\nvalue = [4, 0]'),\n",
       " Text(160.32676056338028, 108.72, 'X[2] <= 1.5\\ngini = 0.45\\nsamples = 181\\nvalue = [119, 62]'),\n",
       " Text(141.46478873239437, 77.65714285714284, 'X[1] <= 4.25\\ngini = 0.299\\nsamples = 93\\nvalue = [76, 17]'),\n",
       " Text(132.0338028169014, 46.59428571428572, 'X[1] <= 4.05\\ngini = 0.44\\nsamples = 46\\nvalue = [31, 15]'),\n",
       " Text(127.31830985915492, 15.531428571428563, 'gini = 0.402\\nsamples = 43\\nvalue = [31, 12]'),\n",
       " Text(136.7492957746479, 15.531428571428563, 'gini = 0.0\\nsamples = 3\\nvalue = [0, 3]'),\n",
       " Text(150.89577464788732, 46.59428571428572, 'X[1] <= 4.65\\ngini = 0.081\\nsamples = 47\\nvalue = [45, 2]'),\n",
       " Text(146.18028169014084, 15.531428571428563, 'gini = 0.188\\nsamples = 19\\nvalue = [17, 2]'),\n",
       " Text(155.6112676056338, 15.531428571428563, 'gini = 0.0\\nsamples = 28\\nvalue = [28, 0]'),\n",
       " Text(179.18873239436618, 77.65714285714284, 'X[0] <= 92.5\\ngini = 0.5\\nsamples = 88\\nvalue = [43, 45]'),\n",
       " Text(169.75774647887323, 46.59428571428572, 'X[2] <= 2.5\\ngini = 0.388\\nsamples = 38\\nvalue = [28, 10]'),\n",
       " Text(165.04225352112675, 15.531428571428563, 'gini = 0.5\\nsamples = 10\\nvalue = [5, 5]'),\n",
       " Text(174.4732394366197, 15.531428571428563, 'gini = 0.293\\nsamples = 28\\nvalue = [23, 5]'),\n",
       " Text(188.61971830985914, 46.59428571428572, 'X[0] <= 109.0\\ngini = 0.42\\nsamples = 50\\nvalue = [15, 35]'),\n",
       " Text(183.90422535211266, 15.531428571428563, 'gini = 0.459\\nsamples = 42\\nvalue = [15, 27]'),\n",
       " Text(193.33521126760564, 15.531428571428563, 'gini = 0.0\\nsamples = 8\\nvalue = [0, 8]'),\n",
       " Text(278.8035211267606, 170.84571428571428, 'X[2] <= 1.5\\ngini = 0.482\\nsamples = 979\\nvalue = [583, 396]'),\n",
       " Text(241.66901408450704, 139.78285714285715, 'X[1] <= 6.633\\ngini = 0.194\\nsamples = 635\\nvalue = [566, 69]'),\n",
       " Text(221.6281690140845, 108.72, 'X[1] <= 6.55\\ngini = 0.225\\nsamples = 502\\nvalue = [437, 65]'),\n",
       " Text(216.91267605633803, 77.65714285714284, 'X[1] <= 4.05\\ngini = 0.22\\nsamples = 500\\nvalue = [437, 63]'),\n",
       " Text(207.48169014084507, 46.59428571428572, 'X[0] <= 159.5\\ngini = 0.177\\nsamples = 346\\nvalue = [312, 34]'),\n",
       " Text(202.7661971830986, 15.531428571428563, 'gini = 0.128\\nsamples = 263\\nvalue = [245, 18]'),\n",
       " Text(212.19718309859155, 15.531428571428563, 'gini = 0.311\\nsamples = 83\\nvalue = [67, 16]'),\n",
       " Text(226.34366197183098, 46.59428571428572, 'X[0] <= 179.5\\ngini = 0.306\\nsamples = 154\\nvalue = [125, 29]'),\n",
       " Text(221.6281690140845, 15.531428571428563, 'gini = 0.349\\nsamples = 129\\nvalue = [100, 29]'),\n",
       " Text(231.05915492957746, 15.531428571428563, 'gini = 0.0\\nsamples = 25\\nvalue = [25, 0]'),\n",
       " Text(226.34366197183098, 77.65714285714284, 'gini = 0.0\\nsamples = 2\\nvalue = [0, 2]'),\n",
       " Text(261.7098591549296, 108.72, 'X[0] <= 176.5\\ngini = 0.058\\nsamples = 133\\nvalue = [129, 4]'),\n",
       " Text(249.92112676056337, 77.65714285714284, 'X[1] <= 6.95\\ngini = 0.02\\nsamples = 99\\nvalue = [98, 1]'),\n",
       " Text(245.2056338028169, 46.59428571428572, 'X[1] <= 6.85\\ngini = 0.077\\nsamples = 25\\nvalue = [24, 1]'),\n",
       " Text(240.4901408450704, 15.531428571428563, 'gini = 0.0\\nsamples = 15\\nvalue = [15, 0]'),\n",
       " Text(249.92112676056337, 15.531428571428563, 'gini = 0.18\\nsamples = 10\\nvalue = [9, 1]'),\n",
       " Text(254.63661971830984, 46.59428571428572, 'gini = 0.0\\nsamples = 74\\nvalue = [74, 0]'),\n",
       " Text(273.4985915492958, 77.65714285714284, 'X[0] <= 178.5\\ngini = 0.161\\nsamples = 34\\nvalue = [31, 3]'),\n",
       " Text(264.0676056338028, 46.59428571428572, 'X[1] <= 7.6\\ngini = 0.5\\nsamples = 2\\nvalue = [1, 1]'),\n",
       " Text(259.3521126760563, 15.531428571428563, 'gini = 0.0\\nsamples = 1\\nvalue = [1, 0]'),\n",
       " Text(268.7830985915493, 15.531428571428563, 'gini = 0.0\\nsamples = 1\\nvalue = [0, 1]'),\n",
       " Text(282.92957746478874, 46.59428571428572, 'X[1] <= 8.05\\ngini = 0.117\\nsamples = 32\\nvalue = [30, 2]'),\n",
       " Text(278.21408450704223, 15.531428571428563, 'gini = 0.26\\nsamples = 13\\nvalue = [11, 2]'),\n",
       " Text(287.6450704225352, 15.531428571428563, 'gini = 0.0\\nsamples = 19\\nvalue = [19, 0]'),\n",
       " Text(315.9380281690141, 139.78285714285715, 'X[0] <= 116.5\\ngini = 0.094\\nsamples = 344\\nvalue = [17, 327]'),\n",
       " Text(311.2225352112676, 108.72, 'X[1] <= 2.15\\ngini = 0.491\\nsamples = 30\\nvalue = [17, 13]'),\n",
       " Text(297.07605633802814, 77.65714285714284, 'X[1] <= 0.55\\ngini = 0.26\\nsamples = 13\\nvalue = [11, 2]'),\n",
       " Text(292.3605633802817, 46.59428571428572, 'gini = 0.0\\nsamples = 1\\nvalue = [0, 1]'),\n",
       " Text(301.79154929577464, 46.59428571428572, 'X[0] <= 114.5\\ngini = 0.153\\nsamples = 12\\nvalue = [11, 1]'),\n",
       " Text(297.07605633802814, 15.531428571428563, 'gini = 0.0\\nsamples = 7\\nvalue = [7, 0]'),\n",
       " Text(306.50704225352115, 15.531428571428563, 'gini = 0.32\\nsamples = 5\\nvalue = [4, 1]'),\n",
       " Text(325.36901408450706, 77.65714285714284, 'X[1] <= 4.0\\ngini = 0.457\\nsamples = 17\\nvalue = [6, 11]'),\n",
       " Text(320.65352112676055, 46.59428571428572, 'X[1] <= 3.35\\ngini = 0.497\\nsamples = 13\\nvalue = [6, 7]'),\n",
       " Text(315.9380281690141, 15.531428571428563, 'gini = 0.444\\nsamples = 9\\nvalue = [3, 6]'),\n",
       " Text(325.36901408450706, 15.531428571428563, 'gini = 0.375\\nsamples = 4\\nvalue = [3, 1]'),\n",
       " Text(330.0845070422535, 46.59428571428572, 'gini = 0.0\\nsamples = 4\\nvalue = [0, 4]'),\n",
       " Text(320.65352112676055, 108.72, 'gini = 0.0\\nsamples = 314\\nvalue = [0, 314]')]"
      ]
     },
     "execution_count": 17,
     "metadata": {},
     "output_type": "execute_result"
    },
    {
     "data": {
      "image/png": "[encoded data removed]",
      "text/plain": [
       "<Figure size 432x288 with 1 Axes>"
      ]
     },
     "metadata": {
      "needs_background": "light"
     },
     "output_type": "display_data"
    }
   ],
   "source": [
    "tree.plot_tree(tree_model)"
   ]
  }
 ],
 "metadata": {
  "kernelspec": {
   "display_name": "Python 3",
   "language": "python",
   "name": "python3"
  },
  "language_info": {
   "codemirror_mode": {
    "name": "ipython",
    "version": 3
   },
   "file_extension": ".py",
   "mimetype": "text/x-python",
   "name": "python",
   "nbconvert_exporter": "python",
   "pygments_lexer": "ipython3",
   "version": "3.7.6"
  }
 },
 "nbformat": 4,
 "nbformat_minor": 4
}
