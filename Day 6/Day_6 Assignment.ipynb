{
 "cells": [
  {
   "cell_type": "markdown",
   "metadata": {},
   "source": [
    "Question 1"
   ]
  },
  {
   "cell_type": "code",
   "execution_count": null,
   "metadata": {},
   "outputs": [],
   "source": [
    "email = input(\"Please enter your email ID: \")\n",
    "\n",
    "company_id = email.split('@')[1]\n",
    "company_name = company_id.split('.')[0]\n",
    "\n",
    "print(\"The name of the company is: \", company_name)"
   ]
  },
  {
   "cell_type": "markdown",
   "metadata": {},
   "source": [
    "Question 2"
   ]
  },
  {
   "cell_type": "code",
   "execution_count": null,
   "metadata": {},
   "outputs": [],
   "source": [
    "word_list = list(map(str,input().split(\",\")))\n",
    "word_list = sorted(word_list)\n",
    "\n",
    "for i in range(len(word_list)-1) :\n",
    "    print(word_list[i],end=\",\")\n",
    "print(word_list[len(word_list)-1])"
   ]
  },
  {
   "cell_type": "markdown",
   "metadata": {},
   "source": [
    "Question 4"
   ]
  },
  {
   "cell_type": "code",
   "execution_count": null,
   "metadata": {},
   "outputs": [],
   "source": [
    "list_nums = list(map(int,input().split()))\n",
    "length = len(list_nums)+1\n",
    "\n",
    "print(((length*(length+1))//2)-sum(list_nums))"
   ]
  },
  {
   "cell_type": "markdown",
   "metadata": {},
   "source": [
    "Question 5"
   ]
  },
  {
   "cell_type": "code",
   "execution_count": null,
   "metadata": {},
   "outputs": [],
   "source": [
    "num_list = list(map(int,input().split()))\n",
    "\n",
    "temp=[]\n",
    "for i in num_list :\n",
    "    if(i not in temp) :\n",
    "        temp.append(i)\n",
    "    else :\n",
    "        continue\n",
    "        \n",
    "for num in temp :\n",
    "    print(num,end=\" \")"
   ]
  }
 ],
 "metadata": {
  "kernelspec": {
   "display_name": "Python 3",
   "language": "python",
   "name": "python3"
  },
  "language_info": {
   "codemirror_mode": {
    "name": "ipython",
    "version": 3
   },
   "file_extension": ".py",
   "mimetype": "text/x-python",
   "name": "python",
   "nbconvert_exporter": "python",
   "pygments_lexer": "ipython3",
   "version": "3.7.6"
  }
 },
 "nbformat": 4,
 "nbformat_minor": 4
}
