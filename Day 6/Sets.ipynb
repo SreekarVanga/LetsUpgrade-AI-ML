{
 "cells": [
  {
   "cell_type": "markdown",
   "metadata": {},
   "source": [
    "# Set\n",
    "\n",
    "A Set is an unordered immutable collection of objects. It is similar to lists, tuples and dicionaries in its functions. The additional features that sets have over other collections are the duplicate removal and mathematical operations such as union, intersection, difference and symmetric difference. \n"
   ]
  },
  {
   "cell_type": "code",
   "execution_count": 1,
   "metadata": {},
   "outputs": [],
   "source": [
    "#creating an empty set\n",
    "\n",
    "empty_set = {}"
   ]
  },
  {
   "cell_type": "code",
   "execution_count": 2,
   "metadata": {
    "scrolled": true
   },
   "outputs": [
    {
     "name": "stdout",
     "output_type": "stream",
     "text": [
      "{'created', 'set', 'First'}\n"
     ]
    }
   ],
   "source": [
    "set_1 = {'First','set','created'}\n",
    "print(set_1)"
   ]
  },
  {
   "cell_type": "code",
   "execution_count": 13,
   "metadata": {},
   "outputs": [
    {
     "name": "stdout",
     "output_type": "stream",
     "text": [
      "{'created', 'set', 'First'}\n"
     ]
    }
   ],
   "source": [
    "#creating a set using the set() method\n",
    "\n",
    "set_1 = set(('First','set','created'))\n",
    "print(set_1)"
   ]
  },
  {
   "cell_type": "code",
   "execution_count": 3,
   "metadata": {},
   "outputs": [
    {
     "data": {
      "text/plain": [
       "3"
      ]
     },
     "execution_count": 3,
     "metadata": {},
     "output_type": "execute_result"
    }
   ],
   "source": [
    "len(set_1)"
   ]
  },
  {
   "cell_type": "code",
   "execution_count": 4,
   "metadata": {},
   "outputs": [
    {
     "name": "stdout",
     "output_type": "stream",
     "text": [
      "created\n",
      "set\n",
      "First\n"
     ]
    }
   ],
   "source": [
    "for i in set_1:\n",
    "    print(i)"
   ]
  },
  {
   "cell_type": "code",
   "execution_count": 5,
   "metadata": {},
   "outputs": [
    {
     "name": "stdout",
     "output_type": "stream",
     "text": [
      "True\n",
      "False\n"
     ]
    }
   ],
   "source": [
    "#membership \n",
    "\n",
    "print('set' in set_1)\n",
    "print('value' in set_1)"
   ]
  },
  {
   "cell_type": "code",
   "execution_count": 6,
   "metadata": {},
   "outputs": [
    {
     "name": "stdout",
     "output_type": "stream",
     "text": [
      "{'created', 'new element', 'set', 'First'}\n",
      "{'element1', 'set', 'new element', 'element2', 'created', 'element3', 'First'}\n"
     ]
    }
   ],
   "source": [
    "#adding a new element to a set\n",
    "\n",
    "set_1.add('new element')\n",
    "print(set_1)\n",
    "\n",
    "#adding multiple elements to the set\n",
    "\n",
    "set_1.update(['element1','element2','element3'])\n",
    "print(set_1)"
   ]
  },
  {
   "cell_type": "code",
   "execution_count": 7,
   "metadata": {},
   "outputs": [
    {
     "name": "stdout",
     "output_type": "stream",
     "text": [
      "{'element1', 'set', 'element2', 'created', 'element3', 'First'}\n"
     ]
    }
   ],
   "source": [
    "#removing elements from a set\n",
    "\n",
    "set_1.remove('new element')\n",
    "print(set_1)"
   ]
  },
  {
   "cell_type": "code",
   "execution_count": 9,
   "metadata": {},
   "outputs": [
    {
     "name": "stdout",
     "output_type": "stream",
     "text": [
      "{'word2', 'word1'}\n"
     ]
    }
   ],
   "source": [
    "set_2 = {'word1','word2'}\n",
    "print(set_2)"
   ]
  },
  {
   "cell_type": "code",
   "execution_count": 10,
   "metadata": {},
   "outputs": [
    {
     "name": "stdout",
     "output_type": "stream",
     "text": [
      "{'element2', 'created', 'element3', 'word2', 'element1', 'set', 'First', 'word1'}\n"
     ]
    }
   ],
   "source": [
    "set_3 = set_1.union(set_2)\n",
    "print(set_3)"
   ]
  },
  {
   "cell_type": "code",
   "execution_count": 12,
   "metadata": {},
   "outputs": [
    {
     "name": "stdout",
     "output_type": "stream",
     "text": [
      "set()\n",
      "{'set', 'element1', 'element2', 'created', 'element3', 'First'}\n"
     ]
    }
   ],
   "source": [
    "print(set_1.intersection(set_2))\n",
    "print(set_1.intersection(set_3))"
   ]
  },
  {
   "cell_type": "markdown",
   "metadata": {},
   "source": [
    "### Some additional functions\n",
    "\n",
    "* pop() method removes the last element form the set. But a set contains elements on a random order, so any element might be removed\n",
    "\n",
    "* issubset() - returns if the given set is a subset or not\n",
    "* issuperset() - returns if the given set is a super set of the set or not\n",
    "* isdisjoint() - returns if the two sets have any common elements or not\n",
    "* clear() - clears the list of all the elements\n",
    "* copy() - creates a copy of the set\n",
    "* difference() - returns a set with elements that are not in the others\n"
   ]
  },
  {
   "cell_type": "code",
   "execution_count": null,
   "metadata": {},
   "outputs": [],
   "source": []
  }
 ],
 "metadata": {
  "kernelspec": {
   "display_name": "Python 3",
   "language": "python",
   "name": "python3"
  },
  "language_info": {
   "codemirror_mode": {
    "name": "ipython",
    "version": 3
   },
   "file_extension": ".py",
   "mimetype": "text/x-python",
   "name": "python",
   "nbconvert_exporter": "python",
   "pygments_lexer": "ipython3",
   "version": "3.7.6"
  }
 },
 "nbformat": 4,
 "nbformat_minor": 4
}
