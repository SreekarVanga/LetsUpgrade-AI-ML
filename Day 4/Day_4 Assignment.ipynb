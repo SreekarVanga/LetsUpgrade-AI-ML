{
 "cells": [
  {
   "cell_type": "markdown",
   "metadata": {},
   "source": [
    "# Day 4 Assignment "
   ]
  },
  {
   "cell_type": "markdown",
   "metadata": {},
   "source": [
    "Question 1"
   ]
  },
  {
   "cell_type": "code",
   "execution_count": 1,
   "metadata": {},
   "outputs": [
    {
     "name": "stdout",
     "output_type": "stream",
     "text": [
      "Enter a complex number: 2+3j\n",
      "Enter a second complex number: 5-4j\n",
      "The sum is:  (7-1j)\n",
      "The difference is:  (-3+7j)\n",
      "The product is:  (22+7j)\n",
      "The quotient (division) is:  (-0.0487804878048781+0.5609756097560976j)\n"
     ]
    }
   ],
   "source": [
    "num1 = complex(input(\"Enter a complex number: \"))\n",
    "num2 = complex(input(\"Enter a second complex number: \"))\n",
    "\n",
    "def sum_complex():\n",
    "    print(\"The sum is: \",num1+num2)\n",
    "\n",
    "def diff_complex():\n",
    "    print(\"The difference is: \",num1-num2)\n",
    "\n",
    "def mult_complex():\n",
    "    print(\"The product is: \",num1*num2)\n",
    "\n",
    "def div_complex():\n",
    "    print(\"The quotient (division) is: \",num1/num2)\n",
    "\n",
    "sum_complex()\n",
    "\n",
    "diff_complex()\n",
    "\n",
    "mult_complex()\n",
    "\n",
    "div_complex()\n",
    "\n",
    "# Neither modulo nor floor division can accept a complex number as an operand.\n",
    "#Trying to use a complex number for floor division or modulo operations will raise a TypeError."
   ]
  },
  {
   "cell_type": "markdown",
   "metadata": {},
   "source": [
    "Question 2"
   ]
  },
  {
   "cell_type": "markdown",
   "metadata": {},
   "source": [
    "___range(start, stop, step)___\n",
    "\n",
    "The range function is used to generate a sequence of numbers. The arguments to the range function must be integers.\n",
    "\n",
    "* __start__: This argument defines the starting point of the range of the numbers to be generated. If it is not mentioned, default value of 0 will be considered. (Optional Argument)\n",
    "    \n",
    "* __stop__: This is the end number in the sequence generated. If only a single argument is provided for the range function, it will be assigned as the stop argument by default. (Mandatory Argument)\n",
    "\n",
    "* __step__: This argument defines the steps (skips) to be taken in the series. For example a step value of 2 means every second (alternate) number will be taken into consideration. The default value of the step argument is 1. Step can't be 0, else it'll raise a ValueError. For a positive step, the sequence will move forward and for a negative step, it'll move backwards. In this case, the value of the start argument should be greater than the stop argument. (Optional Argument)\n",
    "\n",
    "The range function is generally used in loop statements. "
   ]
  },
  {
   "cell_type": "code",
   "execution_count": 2,
   "metadata": {},
   "outputs": [
    {
     "name": "stdout",
     "output_type": "stream",
     "text": [
      "Enter a number: 7\n",
      "0\n",
      "1\n",
      "2\n",
      "3\n",
      "4\n",
      "5\n",
      "6\n"
     ]
    }
   ],
   "source": [
    "#printing the series of numbers from 0 to the desired number\n",
    "\n",
    "num = int(input(\"Enter a number: \"))\n",
    "\n",
    "for i in range(num):\n",
    "    print(i)"
   ]
  },
  {
   "cell_type": "markdown",
   "metadata": {},
   "source": [
    "Question 3"
   ]
  },
  {
   "cell_type": "code",
   "execution_count": 3,
   "metadata": {},
   "outputs": [
    {
     "name": "stdout",
     "output_type": "stream",
     "text": [
      "Enter a number: 32\n",
      "Enter a second number: 25\n",
      "The division result is:  1.28\n"
     ]
    }
   ],
   "source": [
    "num1 = float(input(\"Enter a number: \"))\n",
    "num2 = float(input(\"Enter a second number: \"))\n",
    "\n",
    "if num1 - num2 > 25:\n",
    "    print(\"The product of the two numbers is: \",num1*num2)\n",
    "\n",
    "else:\n",
    "    print(\"The division result is: \",num1/num2)"
   ]
  },
  {
   "cell_type": "markdown",
   "metadata": {},
   "source": [
    "Question 4"
   ]
  },
  {
   "cell_type": "code",
   "execution_count": 4,
   "metadata": {},
   "outputs": [
    {
     "name": "stdout",
     "output_type": "stream",
     "text": [
      "square of that number minus 2 : -2\n",
      "square of that number minus 2 : 2\n",
      "square of that number minus 2 : 14\n",
      "square of that number minus 2 : 34\n",
      "square of that number minus 2 : 62\n"
     ]
    }
   ],
   "source": [
    "lst = list(range(10))\n",
    "\n",
    "for i in lst:\n",
    "    if i%2==0:\n",
    "        print(\"square of that number minus 2 :\",i**2-2)\n",
    "\n",
    "#or\n",
    "\n",
    "# for i in lst:\n",
    "#     if i%2==0:\n",
    "#         print(\"square of that number minus 2\")\"\"\""
   ]
  },
  {
   "cell_type": "markdown",
   "metadata": {},
   "source": [
    "Question 5"
   ]
  },
  {
   "cell_type": "code",
   "execution_count": 5,
   "metadata": {},
   "outputs": [
    {
     "name": "stdout",
     "output_type": "stream",
     "text": [
      "23\n",
      "456\n",
      "66\n",
      "54\n",
      "45\n",
      "612\n"
     ]
    }
   ],
   "source": [
    "lst = [23,456,-1,66,7,54,1,45,3,612]\n",
    "#A list of 10 numbers was created\n",
    "\n",
    "for i in lst:\n",
    "    if i/2>7: #considering only those numebers whose value is greater than 7 when the number is divided by 2\n",
    "        print(i) #printing the number"
   ]
  }
 ],
 "metadata": {
  "kernelspec": {
   "display_name": "Python 3",
   "language": "python",
   "name": "python3"
  },
  "language_info": {
   "codemirror_mode": {
    "name": "ipython",
    "version": 3
   },
   "file_extension": ".py",
   "mimetype": "text/x-python",
   "name": "python",
   "nbconvert_exporter": "python",
   "pygments_lexer": "ipython3",
   "version": "3.7.6"
  }
 },
 "nbformat": 4,
 "nbformat_minor": 4
}
