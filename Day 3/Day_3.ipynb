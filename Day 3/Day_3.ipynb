{
 "cells": [
  {
   "cell_type": "markdown",
   "metadata": {},
   "source": [
    "Question 1"
   ]
  },
  {
   "cell_type": "code",
   "execution_count": 1,
   "metadata": {},
   "outputs": [
    {
     "name": "stdout",
     "output_type": "stream",
     "text": [
      "Enter the first number: 2+4j\n",
      "Enter the second number: 4-23j\n"
     ]
    },
    {
     "data": {
      "text/plain": [
       "(-2+27j)"
      ]
     },
     "execution_count": 1,
     "metadata": {},
     "output_type": "execute_result"
    }
   ],
   "source": [
    "n1= complex(input(\"Enter the first number: \"))\n",
    "n2= complex(input(\"Enter the second number: \"))\n",
    "\n",
    "def sub_complex():\n",
    "    return n1-n2\n",
    "\n",
    "sub_complex()"
   ]
  },
  {
   "cell_type": "markdown",
   "metadata": {},
   "source": [
    "Question 2"
   ]
  },
  {
   "cell_type": "code",
   "execution_count": 2,
   "metadata": {},
   "outputs": [
    {
     "name": "stdout",
     "output_type": "stream",
     "text": [
      "Enter the number whose fourth root is to be found: 625\n",
      "The fourth root of  625.0  is:  5.0\n"
     ]
    }
   ],
   "source": [
    "#import math\n",
    "\n",
    "n=float(input(\"Enter the number whose fourth root is to be found: \"))\n",
    "\n",
    "'''def fourth_root():\n",
    "    sq=math.sqrt(n)\n",
    "    return math.sqrt(sq)\n",
    "\n",
    "fourth_root()'''\n",
    "\n",
    "print(\"The fourth root of \",n,\" is: \",n**0.25)"
   ]
  },
  {
   "cell_type": "markdown",
   "metadata": {},
   "source": [
    "Question 3"
   ]
  },
  {
   "cell_type": "code",
   "execution_count": 3,
   "metadata": {},
   "outputs": [
    {
     "name": "stdout",
     "output_type": "stream",
     "text": [
      "Enter a number: 2\n",
      "Enter another number: 4\n"
     ]
    },
    {
     "data": {
      "text/plain": [
       "(4.0, 2.0)"
      ]
     },
     "execution_count": 3,
     "metadata": {},
     "output_type": "execute_result"
    }
   ],
   "source": [
    "n1=float(input(\"Enter a number: \"))\n",
    "n2=float(input(\"Enter another number: \"))\n",
    "\n",
    "def swap(n1,n2):\n",
    "    temp=n1\n",
    "    n1=n2\n",
    "    n2=temp\n",
    "    \n",
    "    return (n1,n2)\n",
    "\n",
    "swap(n1,n2)"
   ]
  },
  {
   "cell_type": "markdown",
   "metadata": {},
   "source": [
    "Question 4"
   ]
  },
  {
   "cell_type": "code",
   "execution_count": 4,
   "metadata": {},
   "outputs": [
    {
     "name": "stdout",
     "output_type": "stream",
     "text": [
      "Enter a number: 23\n",
      "Enter a second number: 54\n",
      "The numbers after being swapped are 54.0 and 23.0 .\n"
     ]
    }
   ],
   "source": [
    "n1 = float(input(\"Enter a number: \"))\n",
    "n2 = float(input(\"Enter a second number: \"))\n",
    "\n",
    "print(\"The numbers after being swapped are\",n2,\"and\",n1,\".\")"
   ]
  },
  {
   "cell_type": "markdown",
   "metadata": {},
   "source": [
    "Question 5"
   ]
  },
  {
   "cell_type": "code",
   "execution_count": 5,
   "metadata": {},
   "outputs": [
    {
     "name": "stdout",
     "output_type": "stream",
     "text": [
      "Enter the temperature in Fahrenheit: 212\n",
      "The temperature in Kelvin is:  373.0\n",
      "The temperature in Celsuis is:  100.0\n"
     ]
    }
   ],
   "source": [
    "t= float(input(\"Enter the temperature in Fahrenheit: \"))\n",
    "\n",
    "c=((t-32)/9)*5\n",
    "\n",
    "print(\"The temperature in Kelvin is: \", c+273)\n",
    "print(\"The temperature in Celsuis is: \", c)"
   ]
  },
  {
   "cell_type": "markdown",
   "metadata": {},
   "source": [
    "Question 6"
   ]
  },
  {
   "cell_type": "code",
   "execution_count": 6,
   "metadata": {},
   "outputs": [
    {
     "name": "stdout",
     "output_type": "stream",
     "text": [
      "Type of a:  <class 'int'>\n",
      "Type of b:  <class 'float'>\n",
      "Type of c:  <class 'complex'>\n",
      "Type of d:  <class 'str'>\n",
      "Type of e:  <class 'list'>\n",
      "Type of f:  <class 'tuple'>\n",
      "Type of g:  <class 'dict'>\n",
      "Type of h:  <class 'set'>\n",
      "Type of i:  <class 'bool'>\n"
     ]
    }
   ],
   "source": [
    "a = 75\n",
    "print(\"Type of a: \", type(a)) \n",
    "  \n",
    "b = 234.0\n",
    "print(\"Type of b: \", type(b)) \n",
    "  \n",
    "c = -3 + 5j\n",
    "print(\"Type of c: \", type(c)) \n",
    "\n",
    "d = \"Hi! This is Sreekar!\"\n",
    "print(\"Type of d: \", type(d))\n",
    "\n",
    "e = ['ML','DL','AI']\n",
    "print(\"Type of e: \", type(e))\n",
    "\n",
    "f = ('ML','DL','AI')\n",
    "print(\"Type of f: \", type(f))\n",
    "\n",
    "g = {\"Course\" : \"ML and AI\", \"duration\" : 12}\n",
    "print(\"Type of g: \", type(g))\n",
    "\n",
    "h = {'ML','DL','AI'}\n",
    "print(\"Type of h: \", type(h))\n",
    "\n",
    "i = True\n",
    "print(\"Type of i: \", type(i))"
   ]
  },
  {
   "cell_type": "markdown",
   "metadata": {},
   "source": [
    "Question 7"
   ]
  },
  {
   "cell_type": "markdown",
   "metadata": {},
   "source": [
    "### Steps discussed by Dr. Darshan Ingle sir to create a github profile are:\n",
    "\n",
    "* 1) Creating a GitHub account by signing up with email\n",
    "* 2) Creating a new repository with the name \"LetsUpgrade AI-ML\"\n",
    "* 3) Description being \"Assignments\"\n",
    "* 4) Create a \"PUBLIC\" repository\n",
    "* 5) Click on \"Upload an existing file\"\n",
    "* 6) Upload or drag the required folder\n",
    "* 7) Click on \"Commit Changes\"\n",
    "* 8) Now copy the URL of the repository and paste it in the google doc provided by the LetsUpgrade team"
   ]
  }
 ],
 "metadata": {
  "kernelspec": {
   "display_name": "Python 3",
   "language": "python",
   "name": "python3"
  },
  "language_info": {
   "codemirror_mode": {
    "name": "ipython",
    "version": 3
   },
   "file_extension": ".py",
   "mimetype": "text/x-python",
   "name": "python",
   "nbconvert_exporter": "python",
   "pygments_lexer": "ipython3",
   "version": "3.7.6"
  }
 },
 "nbformat": 4,
 "nbformat_minor": 4
}
