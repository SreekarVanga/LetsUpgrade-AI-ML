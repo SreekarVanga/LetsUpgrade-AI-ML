{
 "cells": [
  {
   "cell_type": "markdown",
   "metadata": {},
   "source": [
    "Question 1"
   ]
  },
  {
   "cell_type": "code",
   "execution_count": null,
   "metadata": {},
   "outputs": [],
   "source": [
    "#To print the first 20 non-even prime numbers\n",
    "\n",
    "start = 1\n",
    "end = 100\n",
    "\n",
    "lst_prime_numbers = []\n",
    "\n",
    "for val in range(start, end + 1): \n",
    "    if val > 1: \n",
    "        for n in range(2, val//2 + 2): \n",
    "            if (val % n) == 0: \n",
    "                break\n",
    "            else: \n",
    "                if len(lst_prime_numbers) < 20:\n",
    "                    if n == val//2 + 1: \n",
    "                        lst_prime_numbers.append(val)\n",
    "                else:\n",
    "                    break\n",
    "                    \n",
    "print(\"The list of the first 20 non-even prime numbers is:\\n\",lst_prime_numbers)"
   ]
  },
  {
   "cell_type": "markdown",
   "metadata": {},
   "source": [
    "Question 2"
   ]
  },
  {
   "cell_type": "code",
   "execution_count": null,
   "metadata": {},
   "outputs": [],
   "source": [
    "#15 functions of Strings \n",
    "\n",
    "str = \"Hey! This is the LetsUpgrade AI-ML course\"\n",
    "\n",
    "#printing a string\n",
    "print(str)\n",
    "str\n",
    "\n",
    "#indexing\n",
    "#printing the exclamatory mark\n",
    "print(str[3])\n",
    "\n",
    "#slicing\n",
    "#printing LetsUpgrade\n",
    "print(str[17:29])\n",
    "\n",
    "#concatenation\n",
    "str_two = \"Assignment\"\n",
    "print(str + str_two)\n",
    "#print(str, str_two)\n",
    "\n",
    "#string repetition\n",
    "print(str_two * 4)\n",
    "\n",
    "#capitalizing the string\n",
    "print(str.capitalize())\n",
    "\n",
    "#casefolding\n",
    "print(str.casefold())\n",
    "\n",
    "#Making all the characters capital\n",
    "print(str.upper())\n",
    "\n",
    "#changing all the characters into lower case letters\n",
    "print(str.lower())\n",
    "\n",
    "#making the given string into the central entity \n",
    "print(str.center(50, \"*\"))\n",
    "\n",
    "#finding a character in the given string\n",
    "print(str.find(\"h\"))\n",
    "\n",
    "#replacing a part of the string with another string\n",
    "print(str.replace(\"course\", str_two))\n",
    "\n",
    "#stripping white spaces from the beginning and the end of the string\n",
    "str_three = \"    White spaces   \"\n",
    "print(str_three.strip())\n",
    "\n",
    "#checking if the whole string only contains alphabet\n",
    "print(str.isalpha())\n",
    "\n",
    "#finding the length of the string\n",
    "print(len(str))\n",
    "\n",
    "#splitting all the elements of a string separated with a space (by default) and return a list of these elements\n",
    "print(str.split())"
   ]
  },
  {
   "cell_type": "markdown",
   "metadata": {},
   "source": [
    "Question 3"
   ]
  },
  {
   "cell_type": "code",
   "execution_count": null,
   "metadata": {},
   "outputs": [],
   "source": [
    "str_default = input(\"Enter a string: \")\n",
    "str_checking = input(\"Enter the string to be compared: \")\n",
    "\n",
    "if len(str_default.strip()) == len(str_checking.strip()):\n",
    "    if str_default.lower() == str_checking.lower():\n",
    "        print(\"The given string is a Palindrome\")\n",
    "    elif sorted(str_default) == sorted(str_checking):\n",
    "        print(\"The given string is an Anagram\")\n",
    "    else:\n",
    "        print(\"The given string is neither a Palindrome nor an Anagram\")\n",
    "\n",
    "elif len(str_default.strip()) != len(str_checking.strip()):\n",
    "    print(\"The length of the strings are unequal, hence they can't be compared\")"
   ]
  },
  {
   "cell_type": "markdown",
   "metadata": {},
   "source": [
    "Question 4"
   ]
  },
  {
   "cell_type": "code",
   "execution_count": null,
   "metadata": {},
   "outputs": [],
   "source": [
    "string = input(\"Enter the string: \")\n",
    "\n",
    "unwanted_chars = [\"'\",'\"',\".\",',','/','?',':',';','[',']','{','}','|','+','=','-','_','(',')','*','&','^','%','$','@','!']\n",
    "\n",
    "def only_string():\n",
    "    a = string\n",
    "    for i in unwanted_chars:\n",
    "        clean_str = a.replace(i,'')\n",
    "        a = clean_str\n",
    "    \n",
    "    clean_str = clean_str.replace(' ','')\n",
    "    clean_str = clean_str.lower()\n",
    "    print(clean_str)\n",
    "\n",
    "only_string()\n",
    "        "
   ]
  }
 ],
 "metadata": {
  "kernelspec": {
   "display_name": "Python 3",
   "language": "python",
   "name": "python3"
  },
  "language_info": {
   "codemirror_mode": {
    "name": "ipython",
    "version": 3
   },
   "file_extension": ".py",
   "mimetype": "text/x-python",
   "name": "python",
   "nbconvert_exporter": "python",
   "pygments_lexer": "ipython3",
   "version": "3.7.6"
  }
 },
 "nbformat": 4,
 "nbformat_minor": 4
}
